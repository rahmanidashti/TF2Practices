{
  "nbformat": 4,
  "nbformat_minor": 0,
  "metadata": {
    "colab": {
      "name": "00 - TF2Practice - Basics",
      "provenance": [],
      "collapsed_sections": [],
      "authorship_tag": "ABX9TyOvfttbz0c6c2OEGUiubb5N",
      "include_colab_link": true
    },
    "kernelspec": {
      "name": "python3",
      "display_name": "Python 3"
    }
  },
  "cells": [
    {
      "cell_type": "markdown",
      "metadata": {
        "id": "view-in-github",
        "colab_type": "text"
      },
      "source": [
        "<a href=\"https://colab.research.google.com/github/rahmanidashti/TF2Practices/blob/main/00_TF2Practice_Basics.ipynb\" target=\"_parent\"><img src=\"https://colab.research.google.com/assets/colab-badge.svg\" alt=\"Open In Colab\"/></a>"
      ]
    },
    {
      "cell_type": "markdown",
      "metadata": {
        "id": "m_AjNyj5at5q"
      },
      "source": [
        "## Installation and Import"
      ]
    },
    {
      "cell_type": "code",
      "metadata": {
        "id": "Hy2VrmhJam8a"
      },
      "source": [
        "!pip install tensorflow"
      ],
      "execution_count": null,
      "outputs": []
    },
    {
      "cell_type": "code",
      "metadata": {
        "colab": {
          "base_uri": "https://localhost:8080/"
        },
        "id": "0J2cGrcNa1Fe",
        "outputId": "5316a934-d07a-4489-850d-a1e22fe36262"
      },
      "source": [
        "import tensorflow as tf\n",
        "print(tf.__version__)"
      ],
      "execution_count": null,
      "outputs": [
        {
          "output_type": "stream",
          "text": [
            "2.4.1\n"
          ],
          "name": "stdout"
        }
      ]
    },
    {
      "cell_type": "markdown",
      "metadata": {
        "id": "hxl2Jsj0bDk6"
      },
      "source": [
        "## Tensors"
      ]
    },
    {
      "cell_type": "markdown",
      "metadata": {
        "id": "MiHGY_W-bNcz"
      },
      "source": [
        "### Constant\n",
        "A constant is a tensor that we cannot change its value when we create it. We defined a scaler, vector, and matrix using constant bellow."
      ]
    },
    {
      "cell_type": "code",
      "metadata": {
        "colab": {
          "base_uri": "https://localhost:8080/"
        },
        "id": "6zTPBadTbA_z",
        "outputId": "803c345d-9418-436d-f9a4-381a8e49d1a1"
      },
      "source": [
        "c1 = tf.constant(2, tf.int16)\n",
        "c2 = tf.constant([4, 1, 2], tf.int16)\n",
        "c3 = tf.constant([[1,2,3],[4,5,6]], tf.int16)\n",
        "\n",
        "print(c1)\n",
        "print(c2)\n",
        "print(c3)"
      ],
      "execution_count": null,
      "outputs": [
        {
          "output_type": "stream",
          "text": [
            "tf.Tensor(2, shape=(), dtype=int16)\n",
            "tf.Tensor([4 1 2], shape=(3,), dtype=int16)\n",
            "tf.Tensor(\n",
            "[[1 2 3]\n",
            " [4 5 6]], shape=(2, 3), dtype=int16)\n"
          ],
          "name": "stdout"
        }
      ]
    },
    {
      "cell_type": "markdown",
      "metadata": {
        "id": "-FGTMtvucBHS"
      },
      "source": [
        "### Variable\n",
        "The difference between variable and constant is that we can change its value whenever we need but we cannot change its type as we could not in constant."
      ]
    },
    {
      "cell_type": "code",
      "metadata": {
        "colab": {
          "base_uri": "https://localhost:8080/"
        },
        "id": "k7QKUAo_bnFk",
        "outputId": "084dcc5a-81b2-46ff-d37b-dbf19a93902a"
      },
      "source": [
        "v1 = tf.Variable(2, tf.int16)\n",
        "\n",
        "print(v1)\n",
        "\n",
        "v1.assign(4)\n",
        "\n",
        "print(v1)\n"
      ],
      "execution_count": null,
      "outputs": [
        {
          "output_type": "stream",
          "text": [
            "<tf.Variable 'Variable:0' shape=() dtype=int32, numpy=2>\n",
            "<tf.Variable 'Variable:0' shape=() dtype=int32, numpy=4>\n"
          ],
          "name": "stdout"
        }
      ]
    },
    {
      "cell_type": "markdown",
      "metadata": {
        "id": "LWcBU1RyRqOd"
      },
      "source": [
        "### Sparse Tensor\n",
        "\n",
        "Sparse Tensor is a suitable way when you want to store a sparse data such as a user-item interaction matrix which most of the elements are zero."
      ]
    },
    {
      "cell_type": "code",
      "metadata": {
        "id": "9Nz9U8Wncaz2",
        "colab": {
          "base_uri": "https://localhost:8080/"
        },
        "outputId": "c92a638d-07ed-47a3-dc69-46ac570c30be"
      },
      "source": [
        "s1 = tf.sparse.SparseTensor(indices=[[0, 0], [1, 2]], values=[4, 7], dense_shape=[2, 3])\n",
        "\n",
        "print(s1)"
      ],
      "execution_count": null,
      "outputs": [
        {
          "output_type": "stream",
          "text": [
            "SparseTensor(indices=tf.Tensor(\n",
            "[[0 0]\n",
            " [1 2]], shape=(2, 2), dtype=int64), values=tf.Tensor([4 7], shape=(2,), dtype=int32), dense_shape=tf.Tensor([2 3], shape=(2,), dtype=int64))\n"
          ],
          "name": "stdout"
        }
      ]
    },
    {
      "cell_type": "markdown",
      "metadata": {
        "id": "5L8_03Pfc-X7"
      },
      "source": [
        "## Static Computation Graph in TF.2\n",
        "\n",
        "In `TF.2` to create a static computation graph we need to use `TF.Function`. For more information you can read the following blog post on **Meduim** which is very usefule and contains different examples: [Practical Coding in TensorFlow 2.0 (Eager execution, @tf.function, TensorArray, and advanced control flow)](https://towardsdatascience.com/practical-coding-in-tensorflow-2-0-1aab32bcfde1)"
      ]
    },
    {
      "cell_type": "code",
      "metadata": {
        "colab": {
          "base_uri": "https://localhost:8080/"
        },
        "id": "vguCg0zbSQy6",
        "outputId": "bc78ed9e-e6b2-4c9b-be05-2d9fe0334f1f"
      },
      "source": [
        "@tf.function\n",
        "def multiply_test(p1, p2):\n",
        "  m = tf.multiply(p1, p2)\n",
        "  return m\n",
        "\n",
        "c1 = tf.constant(2, tf.int16)\n",
        "c2 = tf.constant(4, tf.int16)\n",
        "\n",
        "result = multiply_test(c1, c2)\n",
        "tf.print(result)"
      ],
      "execution_count": null,
      "outputs": [
        {
          "output_type": "stream",
          "text": [
            "8\n"
          ],
          "name": "stdout"
        }
      ]
    }
  ]
}