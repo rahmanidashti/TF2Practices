{
  "nbformat": 4,
  "nbformat_minor": 0,
  "metadata": {
    "colab": {
      "name": "01 - TF2Practice - Optimization.ipynb",
      "provenance": [],
      "collapsed_sections": [],
      "authorship_tag": "ABX9TyPK0INwmwpp9glF96bJJoLW",
      "include_colab_link": true
    },
    "kernelspec": {
      "name": "python3",
      "display_name": "Python 3"
    }
  },
  "cells": [
    {
      "cell_type": "markdown",
      "metadata": {
        "id": "view-in-github",
        "colab_type": "text"
      },
      "source": [
        "<a href=\"https://colab.research.google.com/github/rahmanidashti/TF2Practices/blob/main/01_TF2Practice_Optimization.ipynb\" target=\"_parent\"><img src=\"https://colab.research.google.com/assets/colab-badge.svg\" alt=\"Open In Colab\"/></a>"
      ]
    },
    {
      "cell_type": "markdown",
      "metadata": {
        "id": "HnNobMqNQd-_"
      },
      "source": [
        "# Optimization in TF.2\n",
        "\n",
        "`min(f(x)) w.r.t constraints`"
      ]
    },
    {
      "cell_type": "markdown",
      "metadata": {
        "id": "ms87pai4RUhY"
      },
      "source": [
        "## Learning procedure in TF.2\n",
        "1. Defining learning model\n",
        "2. Defning loss function\n",
        "3. Loss function minimization"
      ]
    },
    {
      "cell_type": "markdown",
      "metadata": {
        "id": "48A6161mSk9r"
      },
      "source": [
        "### Example\n",
        "\n"
      ]
    },
    {
      "cell_type": "markdown",
      "metadata": {
        "id": "nN_Et_zyTRpK"
      },
      "source": [
        "#### Definig learning model\n",
        "\n",
        "In this example, we are going to create a `linear regression` model which is one of the fundamental supervised learning algorithms. In contrast to the classification problem in which the outputs are labels and **discrete**, the outputs in regression are continuous and it is about the prediction of quantity, not labels.\n",
        "\n",
        "Linear regression:\n",
        "$f(x_i) = w^T . x_i + b$\n",
        "\n",
        "\n"
      ]
    },
    {
      "cell_type": "code",
      "metadata": {
        "id": "7NanU-f4PrKJ"
      },
      "source": [
        "import numpy as np\n",
        "import tensorflow as tf\n",
        "import matplotlib.pyplot as plt"
      ],
      "execution_count": null,
      "outputs": []
    },
    {
      "cell_type": "code",
      "metadata": {
        "colab": {
          "base_uri": "https://localhost:8080/",
          "height": 282
        },
        "id": "kvfYGe6iQTEi",
        "outputId": "e5e36088-bed5-45ef-e11d-60e7d515babb"
      },
      "source": [
        "# Dataset: random data\n",
        "\n",
        "# The linspace(start, stop, num) function returns evenly spaced numbers over a specified interval [start, stop].\n",
        "x = np.linspace(0, 4, 120)\n",
        "\n",
        "# create a data around the line 2*x+0.9\n",
        "y = 2 * x + 0.9 + np.random.randn(x.shape[0]) + 0.3\n",
        "\n",
        "plt.scatter(x, y)\n",
        "plt.show"
      ],
      "execution_count": null,
      "outputs": [
        {
          "output_type": "execute_result",
          "data": {
            "text/plain": [
              "<function matplotlib.pyplot.show>"
            ]
          },
          "metadata": {
            "tags": []
          },
          "execution_count": 101
        },
        {
          "output_type": "display_data",
          "data": {
            "image/png": "[encoded data removed]",
            "text/plain": [
              "<Figure size 432x288 with 1 Axes>"
            ]
          },
          "metadata": {
            "tags": [],
            "needs_background": "light"
          }
        }
      ]
    },
    {
      "cell_type": "code",
      "metadata": {
        "id": "SIy3tBc-krnE"
      },
      "source": [
        "class Linearregmodel:\n",
        "  # the constructor method sets W and b\n",
        "  def __init__(self):\n",
        "    self.Weight = tf.Variable(5.0)\n",
        "    self.Bias = tf.Variable(6.0)\n",
        "  # Using __call__ method we can call the class like a function\n",
        "  def __call__(self, x):\n",
        "    return self.Weight * x + self.Bias"
      ],
      "execution_count": null,
      "outputs": []
    },
    {
      "cell_type": "markdown",
      "metadata": {
        "id": "YpSIsI7VraVT"
      },
      "source": [
        "#### Defining loss function\n",
        "\n",
        "We need to define a loss function to optimize the model's parameter. Here, we consdier Mean Square Error (MSE) which is: $\\frac{1}{n}\\sum_{i=1}^{n}(y_i^t-y_i^p)^2$"
      ]
    },
    {
      "cell_type": "code",
      "metadata": {
        "id": "7RbtFYzZrANt"
      },
      "source": [
        "def loss(actual_values, predicted_values):\n",
        "  # square: to the power of 2\n",
        "  # reduce_mean: mean of values\n",
        "  return tf.reduce_mean(tf.square(actual_values - predicted_values))"
      ],
      "execution_count": null,
      "outputs": []
    },
    {
      "cell_type": "markdown",
      "metadata": {
        "id": "HZtPeBYYt2mD"
      },
      "source": [
        "#### Loss function minimization\n",
        "\n",
        "Gradient descent: $x_{n+1}=x_n - \\eta\\frac{\\partial f}{\\partial x}$ where $\\eta$ is learning rate."
      ]
    },
    {
      "cell_type": "code",
      "metadata": {
        "id": "rCpPQdaqtbwv"
      },
      "source": [
        "def train(linear_model, x, y, learning_rate=0.12):\n",
        "  with tf.GradientTape() as t:\n",
        "    current_loss = loss(actual_values=y, predicted_values=linear_model(x))\n",
        "\n",
        "  ''' we need to optimize our model parametrs which in this model wight and \n",
        "  bias are our model parametrs. So, we have to compute the gradient (derivations) \n",
        "  of our loss function into model parametrs.\n",
        "  '''\n",
        "\n",
        "  lr_weight, lr_bias = t.gradient(current_loss, [linear_model.Weight, linear_model.Bias])\n",
        "\n",
        "  # update the weight and biase based on the new valeus of gradients\n",
        "  linear_model.Weight.assign_sub(learning_rate * lr_weight)\n",
        "  linear_model.Bias.assign_sub(learning_rate * lr_bias)"
      ],
      "execution_count": null,
      "outputs": []
    },
    {
      "cell_type": "code",
      "metadata": {
        "colab": {
          "base_uri": "https://localhost:8080/"
        },
        "id": "hbV0W-k2x6f4",
        "outputId": "7cb7f63f-d2c0-4959-92c3-e6c0cfccbafe"
      },
      "source": [
        "linear_model = Linearregmodel()\n",
        "epochs = 100\n",
        "for epoch_count in range(epochs):\n",
        "  real_loss = loss(actual_values=y, predicted_values=linear_model(x))\n",
        "  train(linear_model, x, y, learning_rate=0.12)\n",
        "  print(f\"Epoch count = {epoch_count}, Loss value = {real_loss.numpy()}\")\n",
        "\n",
        "print(f\"linear_model.Weight: {linear_model.Weight.numpy()}\")\n",
        "print(f\"linear_model.Bias: {linear_model.Bias.numpy()}\")"
      ],
      "execution_count": null,
      "outputs": [
        {
          "output_type": "stream",
          "text": [
            "Epoch count = 0, Loss value = 126.83720397949219\n",
            "Epoch count = 1, Loss value = 30.425928115844727\n",
            "Epoch count = 2, Loss value = 8.766112327575684\n",
            "Epoch count = 3, Loss value = 3.7991867065429688\n",
            "Epoch count = 4, Loss value = 2.570418357849121\n",
            "Epoch count = 5, Loss value = 2.1881070137023926\n",
            "Epoch count = 6, Loss value = 2.005814552307129\n",
            "Epoch count = 7, Loss value = 1.8781630992889404\n",
            "Epoch count = 8, Loss value = 1.7716845273971558\n",
            "Epoch count = 9, Loss value = 1.6779841184616089\n",
            "Epoch count = 10, Loss value = 1.5943572521209717\n",
            "Epoch count = 11, Loss value = 1.5194549560546875\n",
            "Epoch count = 12, Loss value = 1.4523069858551025\n",
            "Epoch count = 13, Loss value = 1.3920975923538208\n",
            "Epoch count = 14, Loss value = 1.338106393814087\n",
            "Epoch count = 15, Loss value = 1.2896908521652222\n",
            "Epoch count = 16, Loss value = 1.2462750673294067\n",
            "Epoch count = 17, Loss value = 1.207342505455017\n",
            "Epoch count = 18, Loss value = 1.1724302768707275\n",
            "Epoch count = 19, Loss value = 1.1411231756210327\n",
            "Epoch count = 20, Loss value = 1.113049030303955\n",
            "Epoch count = 21, Loss value = 1.0878740549087524\n",
            "Epoch count = 22, Loss value = 1.0652985572814941\n",
            "Epoch count = 23, Loss value = 1.0450541973114014\n",
            "Epoch count = 24, Loss value = 1.0269006490707397\n",
            "Epoch count = 25, Loss value = 1.0106215476989746\n",
            "Epoch count = 26, Loss value = 0.9960235357284546\n",
            "Epoch count = 27, Loss value = 0.9829330444335938\n",
            "Epoch count = 28, Loss value = 0.9711942076683044\n",
            "Epoch count = 29, Loss value = 0.960667610168457\n",
            "Epoch count = 30, Loss value = 0.9512280225753784\n",
            "Epoch count = 31, Loss value = 0.9427631497383118\n",
            "Epoch count = 32, Loss value = 0.9351724982261658\n",
            "Epoch count = 33, Loss value = 0.9283657073974609\n",
            "Epoch count = 34, Loss value = 0.922261655330658\n",
            "Epoch count = 35, Loss value = 0.9167879819869995\n",
            "Epoch count = 36, Loss value = 0.9118795990943909\n",
            "Epoch count = 37, Loss value = 0.9074780344963074\n",
            "Epoch count = 38, Loss value = 0.903531014919281\n",
            "Epoch count = 39, Loss value = 0.8999916315078735\n",
            "Epoch count = 40, Loss value = 0.8968175649642944\n",
            "Epoch count = 41, Loss value = 0.8939714431762695\n",
            "Epoch count = 42, Loss value = 0.8914192318916321\n",
            "Epoch count = 43, Loss value = 0.8891304135322571\n",
            "Epoch count = 44, Loss value = 0.887078046798706\n",
            "Epoch count = 45, Loss value = 0.8852376341819763\n",
            "Epoch count = 46, Loss value = 0.8835872411727905\n",
            "Epoch count = 47, Loss value = 0.8821073174476624\n",
            "Epoch count = 48, Loss value = 0.8807801604270935\n",
            "Epoch count = 49, Loss value = 0.8795900940895081\n",
            "Epoch count = 50, Loss value = 0.8785228729248047\n",
            "Epoch count = 51, Loss value = 0.8775658011436462\n",
            "Epoch count = 52, Loss value = 0.8767077326774597\n",
            "Epoch count = 53, Loss value = 0.8759381771087646\n",
            "Epoch count = 54, Loss value = 0.8752480745315552\n",
            "Epoch count = 55, Loss value = 0.8746291995048523\n",
            "Epoch count = 56, Loss value = 0.8740742802619934\n",
            "Epoch count = 57, Loss value = 0.8735767006874084\n",
            "Epoch count = 58, Loss value = 0.8731304407119751\n",
            "Epoch count = 59, Loss value = 0.8727303147315979\n",
            "Epoch count = 60, Loss value = 0.8723714351654053\n",
            "Epoch count = 61, Loss value = 0.8720496892929077\n",
            "Epoch count = 62, Loss value = 0.8717612028121948\n",
            "Epoch count = 63, Loss value = 0.8715023398399353\n",
            "Epoch count = 64, Loss value = 0.8712703585624695\n",
            "Epoch count = 65, Loss value = 0.8710622191429138\n",
            "Epoch count = 66, Loss value = 0.8708757162094116\n",
            "Epoch count = 67, Loss value = 0.8707083463668823\n",
            "Epoch count = 68, Loss value = 0.8705583214759827\n",
            "Epoch count = 69, Loss value = 0.8704237341880798\n",
            "Epoch count = 70, Loss value = 0.8703030943870544\n",
            "Epoch count = 71, Loss value = 0.8701948523521423\n",
            "Epoch count = 72, Loss value = 0.8700979351997375\n",
            "Epoch count = 73, Loss value = 0.8700109720230103\n",
            "Epoch count = 74, Loss value = 0.8699329495429993\n",
            "Epoch count = 75, Loss value = 0.869862973690033\n",
            "Epoch count = 76, Loss value = 0.8698002099990845\n",
            "Epoch count = 77, Loss value = 0.8697440028190613\n",
            "Epoch count = 78, Loss value = 0.8696935176849365\n",
            "Epoch count = 79, Loss value = 0.8696482181549072\n",
            "Epoch count = 80, Loss value = 0.86960768699646\n",
            "Epoch count = 81, Loss value = 0.869571328163147\n",
            "Epoch count = 82, Loss value = 0.8695387244224548\n",
            "Epoch count = 83, Loss value = 0.8695093989372253\n",
            "Epoch count = 84, Loss value = 0.8694831728935242\n",
            "Epoch count = 85, Loss value = 0.8694596886634827\n",
            "Epoch count = 86, Loss value = 0.8694385290145874\n",
            "Epoch count = 87, Loss value = 0.8694196939468384\n",
            "Epoch count = 88, Loss value = 0.8694026470184326\n",
            "Epoch count = 89, Loss value = 0.8693874478340149\n",
            "Epoch count = 90, Loss value = 0.8693738579750061\n",
            "Epoch count = 91, Loss value = 0.8693617582321167\n",
            "Epoch count = 92, Loss value = 0.8693507313728333\n",
            "Epoch count = 93, Loss value = 0.8693407773971558\n",
            "Epoch count = 94, Loss value = 0.8693320155143738\n",
            "Epoch count = 95, Loss value = 0.8693240284919739\n",
            "Epoch count = 96, Loss value = 0.8693169355392456\n",
            "Epoch count = 97, Loss value = 0.8693106174468994\n",
            "Epoch count = 98, Loss value = 0.8693050146102905\n",
            "Epoch count = 99, Loss value = 0.8692998290061951\n",
            "linear_model.Weight: 1.9427632093429565\n",
            "linear_model.Bias: 1.4712718725204468\n"
          ],
          "name": "stdout"
        }
      ]
    }
  ]
}